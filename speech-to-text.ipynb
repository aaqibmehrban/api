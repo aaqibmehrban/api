{
 "cells": [
  {
   "cell_type": "code",
   "execution_count": 5,
   "id": "8b08b5bd",
   "metadata": {},
   "outputs": [],
   "source": [
    "# STEP 1: UPLOAD YOUR AUDIO FILE\n",
    "import requests\n",
    "\n",
    "filename = '/Users/frankandrade/Desktop/YouTube Video Intro.mp3'  # Your path goes here\n",
    "api_key =  # Your API key goes here\n",
    "\n",
    "def read_file(filename, chunk_size=5242880):\n",
    "    with open(filename, 'rb') as _file:\n",
    "        while True:\n",
    "            data = _file.read(chunk_size)\n",
    "            if not data:\n",
    "                break\n",
    "            yield data\n",
    "\n",
    "\n",
    "headers = {'authorization': api_key}\n",
    "response = requests.post('https://api.assemblyai.com/v2/upload',\n",
    "                         headers=headers,\n",
    "                         data=read_file(filename))\n",
    "\n",
    "audio_url = response.json()['upload_url']"
   ]
  },
  {
   "cell_type": "code",
   "execution_count": 6,
   "id": "5536f231",
   "metadata": {},
   "outputs": [
    {
     "name": "stdout",
     "output_type": "stream",
     "text": [
      "{'id': 'orehtd1kvp-20c8-4b01-ba28-1a86b810e524', 'language_model': 'assemblyai_default', 'acoustic_model': 'assemblyai_default', 'language_code': 'en_us', 'status': 'queued', 'audio_url': 'https://cdn.assemblyai.com/upload/3d48cd67-ad08-4be5-b83b-4463c8d946b4', 'text': None, 'words': None, 'utterances': None, 'confidence': None, 'audio_duration': None, 'punctuate': True, 'format_text': True, 'dual_channel': None, 'webhook_url': None, 'webhook_status_code': None, 'speed_boost': False, 'auto_highlights_result': None, 'auto_highlights': False, 'audio_start_from': None, 'audio_end_at': None, 'word_boost': [], 'boost_param': None, 'filter_profanity': False, 'redact_pii': False, 'redact_pii_audio': False, 'redact_pii_audio_quality': None, 'redact_pii_policies': None, 'redact_pii_sub': None, 'speaker_labels': False, 'content_safety': False, 'iab_categories': False, 'content_safety_labels': {}, 'iab_categories_result': {}, 'disfluencies': False, 'sentiment_analysis': False, 'sentiment_analysis_results': None, 'auto_chapters': False, 'chapters': None, 'entity_detection': False, 'entities': None}\n",
      "Status: processing\n",
      "Status: processing\n",
      "Status: processing\n",
      "Status: completed\n",
      "If you are thinking about making a career switch to data science or having watching tutorials to learn data science on your own. This video is for you. In this video, I will show you all the things you need to learn to become am a data scientist. I will introduce you to all the concepts you need to master from math and statistics, the programming languages you need to know as a data scientist and also the visualization tools used in data science, as well as some popular data science projects.\n"
     ]
    }
   ],
   "source": [
    "# STEP 2: SUBMIT YOUR UPLOAD FOR TRANSCRIPTION\n",
    "import os\n",
    "import sys\n",
    "import time\n",
    "\n",
    "endpoint = \"https://api.assemblyai.com/v2/transcript\"\n",
    "json = { \"audio_url\": audio_url }\n",
    "headers = {\n",
    "    \"authorization\": api_key,\n",
    "    \"content-type\": \"application/json\"\n",
    "}\n",
    "response = requests.post(endpoint, json=json, headers=headers)\n",
    "response_json = response.json()\n",
    "print(response_json)\n",
    "\n",
    "# STEP 3: CHECK OUT THE STATUS AND GET THE TRANSCRIPT\n",
    "\n",
    "status = ''\n",
    "while status != 'completed':\n",
    "    response_result = requests.get(\n",
    "        os.path.join(endpoint, response_json['id']),\n",
    "        headers=headers\n",
    "    )\n",
    "    status = response_result.json()['status']\n",
    "    print(f'Status: {status}')\n",
    "\n",
    "    if status == 'error':\n",
    "        sys.exit('Audio file failed to process.')\n",
    "    elif status != 'completed':\n",
    "        time.sleep(5)\n",
    "\n",
    "transcript = response_result.json()['text']\n",
    "print(transcript)\n",
    "\n",
    "with open('transcript.txt', 'w') as f:\n",
    "    f.write(transcript)"
   ]
  }
 ],
 "metadata": {
  "kernelspec": {
   "display_name": "Python 3",
   "language": "python",
   "name": "python3"
  },
  "language_info": {
   "codemirror_mode": {
    "name": "ipython",
    "version": 3
   },
   "file_extension": ".py",
   "mimetype": "text/x-python",
   "name": "python",
   "nbconvert_exporter": "python",
   "pygments_lexer": "ipython3",
   "version": "3.8.8"
  },
  "toc": {
   "base_numbering": 1,
   "nav_menu": {},
   "number_sections": true,
   "sideBar": true,
   "skip_h1_title": false,
   "title_cell": "Table of Contents",
   "title_sidebar": "Contents",
   "toc_cell": false,
   "toc_position": {},
   "toc_section_display": true,
   "toc_window_display": false
  }
 },
 "nbformat": 4,
 "nbformat_minor": 5
}
