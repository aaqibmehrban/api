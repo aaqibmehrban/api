{
 "cells": [
  {
   "cell_type": "code",
   "execution_count": 1,
   "id": "8b08b5bd",
   "metadata": {},
   "outputs": [],
   "source": [
    "# STEP 1: UPLOAD YOUR AUDIO FILE AND GET URL\n",
    "import requests\n",
    "\n",
    "filename = '/Users/frankandrade/Desktop/Steve Jobs.mp3'  # Your path goes here\n",
    "# api_key =  # Your API key goes here\n",
    "upload_endpoint = 'https://api.assemblyai.com/v2/upload'\n",
    "\n",
    "def read_file(filename, chunk_size=5242880):\n",
    "    with open(filename, 'rb') as f:\n",
    "        while True:\n",
    "            data = f.read(chunk_size)\n",
    "            if not data:\n",
    "                break\n",
    "            yield data\n",
    "\n",
    "\n",
    "headers = {'authorization': api_key,\n",
    "           'content-type': 'application/json'}\n",
    "response = requests.post(upload_endpoint,\n",
    "                         headers=headers,\n",
    "                         data=read_file(filename))\n",
    "\n",
    "audio_url = response.json()['upload_url']"
   ]
  },
  {
   "cell_type": "code",
   "execution_count": 2,
   "id": "f359f913",
   "metadata": {},
   "outputs": [],
   "source": [
    "# STEP 2: GET THE TRANSCRIPT REQUEST\n",
    "transcript_endpoint = \"https://api.assemblyai.com/v2/transcript\"\n",
    "\n",
    "response = requests.post(transcript_endpoint,\n",
    "                         headers=headers,\n",
    "                         json={\n",
    "                             \"audio_url\": audio_url,\n",
    "                             \"auto_chapters\": True\n",
    "                         })\n",
    "transcript_id = response.json()['id']"
   ]
  },
  {
   "cell_type": "code",
   "execution_count": 3,
   "id": "5536f231",
   "metadata": {},
   "outputs": [
    {
     "name": "stdout",
     "output_type": "stream",
     "text": [
      "Status: processing\n",
      "Status: processing\n",
      "Status: processing\n",
      "Status: processing\n",
      "Status: processing\n",
      "Status: processing\n",
      "Status: processing\n",
      "Status: processing\n",
      "Status: processing\n",
      "Status: processing\n",
      "Status: processing\n",
      "Status: processing\n",
      "Status: processing\n",
      "Status: processing\n",
      "Status: processing\n",
      "Status: processing\n",
      "Status: processing\n",
      "Status: completed\n",
      "Transcript Saved\n"
     ]
    }
   ],
   "source": [
    "# STEP 3: SAVE THE TRANSCRIPT AND SUMMARY\n",
    "import os\n",
    "import sys\n",
    "import time\n",
    "import json\n",
    "\n",
    "polling_endpoint =  os.path.join(transcript_endpoint, transcript_id)\n",
    "\n",
    "status = ''\n",
    "while status != 'completed':\n",
    "    response_result = requests.get(\n",
    "        polling_endpoint,\n",
    "        headers=headers\n",
    "    )\n",
    "    status = response_result.json()['status']\n",
    "    print(f'Status: {status}')\n",
    "\n",
    "    if status == 'error':\n",
    "        sys.exit('Audio file failed to process.')\n",
    "    elif status != 'completed':\n",
    "        time.sleep(10)\n",
    "\n",
    "\n",
    "if status == 'completed':\n",
    "    filename = transcript_id + '.txt'\n",
    "    with open(filename, 'w') as f:\n",
    "        f.write(response_result.json()['text'])\n",
    "\n",
    "    filename = transcript_id + '_chapters.json'\n",
    "    with open(filename, 'w') as f:\n",
    "        chapters = response_result.json()['chapters']\n",
    "        json.dump(chapters, f, indent=4)\n",
    "\n",
    "    print('Transcript Saved')"
   ]
  }
 ],
 "metadata": {
  "kernelspec": {
   "display_name": "Python 3",
   "language": "python",
   "name": "python3"
  },
  "language_info": {
   "codemirror_mode": {
    "name": "ipython",
    "version": 3
   },
   "file_extension": ".py",
   "mimetype": "text/x-python",
   "name": "python",
   "nbconvert_exporter": "python",
   "pygments_lexer": "ipython3",
   "version": "3.8.8"
  },
  "toc": {
   "base_numbering": 1,
   "nav_menu": {},
   "number_sections": true,
   "sideBar": true,
   "skip_h1_title": false,
   "title_cell": "Table of Contents",
   "title_sidebar": "Contents",
   "toc_cell": false,
   "toc_position": {},
   "toc_section_display": true,
   "toc_window_display": false
  }
 },
 "nbformat": 4,
 "nbformat_minor": 5
}
